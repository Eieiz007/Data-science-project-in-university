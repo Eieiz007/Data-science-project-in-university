{
  "nbformat": 4,
  "nbformat_minor": 0,
  "metadata": {
    "colab": {
      "provenance": [],
      "toc_visible": true,
      "authorship_tag": "ABX9TyNAQbHC0HjD4i5BrpxVE/z8",
      "include_colab_link": true
    },
    "kernelspec": {
      "name": "python3",
      "display_name": "Python 3"
    },
    "language_info": {
      "name": "python"
    }
  },
  "cells": [
    {
      "cell_type": "markdown",
      "metadata": {
        "id": "view-in-github",
        "colab_type": "text"
      },
      "source": [
        "<a href=\"https://colab.research.google.com/github/Eieiz007/Data-science-project-in-university/blob/main/GRU_Many_to_Many.ipynb\" target=\"_parent\"><img src=\"https://colab.research.google.com/assets/colab-badge.svg\" alt=\"Open In Colab\"/></a>"
      ]
    },
    {
      "cell_type": "markdown",
      "source": [
        "# Import"
      ],
      "metadata": {
        "id": "LnesjriKedhM"
      }
    },
    {
      "cell_type": "code",
      "source": [
        "import numpy as np\n",
        "import tensorflow as tf\n",
        "import pandas as pd\n",
        "\n",
        "import tensorflow as tf\n",
        "\n",
        "from tensorflow.keras.optimizers import Adam , AdamW\n",
        "from tensorflow.keras.models import Sequential\n",
        "from tensorflow.keras.layers import Dense , GRU , SimpleRNN , BatchNormalization\n",
        "import matplotlib.pyplot as plt\n",
        "from sklearn.model_selection import train_test_split\n",
        "from sklearn.preprocessing import StandardScaler , MinMaxScaler"
      ],
      "metadata": {
        "id": "Ydhu0zDImBSZ"
      },
      "execution_count": 19,
      "outputs": []
    },
    {
      "cell_type": "markdown",
      "source": [
        "# Create data"
      ],
      "metadata": {
        "id": "e5n9OyMNm0Kw"
      }
    },
    {
      "cell_type": "code",
      "source": [
        "num_days = 700\n",
        "dates = pd.date_range(start=\"2020-01-01\", periods=num_days, freq=\"D\")\n",
        "oil_prices = 50 + 5 * np.sin(np.linspace(0, 20, num_days)) + np.random.normal(0, 1, num_days)\n",
        "temperature = 30 + 10 * np.sin(np.linspace(0, 10, num_days)) + np.random.normal(0, 1, num_days)\n",
        "\n",
        "df = pd.DataFrame({\"Date\": dates, \"Oil_Price\": oil_prices, \"Temperature\": temperature})\n",
        "\n",
        "df.head()"
      ],
      "metadata": {
        "colab": {
          "base_uri": "https://localhost:8080/",
          "height": 206
        },
        "id": "fATCj0xCmC8o",
        "outputId": "c213baac-c66a-4fd5-d68b-5dcafb173cd7"
      },
      "execution_count": 2,
      "outputs": [
        {
          "output_type": "execute_result",
          "data": {
            "text/plain": [
              "        Date  Oil_Price  Temperature\n",
              "0 2020-01-01  50.624577    30.756565\n",
              "1 2020-01-02  50.517657    30.306495\n",
              "2 2020-01-03  49.713281    31.087833\n",
              "3 2020-01-04  49.496190    30.286568\n",
              "4 2020-01-05  50.328691    30.114024"
            ],
            "text/html": [
              "\n",
              "  <div id=\"df-ec7f1135-8df0-4e48-8f83-638e7a863220\" class=\"colab-df-container\">\n",
              "    <div>\n",
              "<style scoped>\n",
              "    .dataframe tbody tr th:only-of-type {\n",
              "        vertical-align: middle;\n",
              "    }\n",
              "\n",
              "    .dataframe tbody tr th {\n",
              "        vertical-align: top;\n",
              "    }\n",
              "\n",
              "    .dataframe thead th {\n",
              "        text-align: right;\n",
              "    }\n",
              "</style>\n",
              "<table border=\"1\" class=\"dataframe\">\n",
              "  <thead>\n",
              "    <tr style=\"text-align: right;\">\n",
              "      <th></th>\n",
              "      <th>Date</th>\n",
              "      <th>Oil_Price</th>\n",
              "      <th>Temperature</th>\n",
              "    </tr>\n",
              "  </thead>\n",
              "  <tbody>\n",
              "    <tr>\n",
              "      <th>0</th>\n",
              "      <td>2020-01-01</td>\n",
              "      <td>50.624577</td>\n",
              "      <td>30.756565</td>\n",
              "    </tr>\n",
              "    <tr>\n",
              "      <th>1</th>\n",
              "      <td>2020-01-02</td>\n",
              "      <td>50.517657</td>\n",
              "      <td>30.306495</td>\n",
              "    </tr>\n",
              "    <tr>\n",
              "      <th>2</th>\n",
              "      <td>2020-01-03</td>\n",
              "      <td>49.713281</td>\n",
              "      <td>31.087833</td>\n",
              "    </tr>\n",
              "    <tr>\n",
              "      <th>3</th>\n",
              "      <td>2020-01-04</td>\n",
              "      <td>49.496190</td>\n",
              "      <td>30.286568</td>\n",
              "    </tr>\n",
              "    <tr>\n",
              "      <th>4</th>\n",
              "      <td>2020-01-05</td>\n",
              "      <td>50.328691</td>\n",
              "      <td>30.114024</td>\n",
              "    </tr>\n",
              "  </tbody>\n",
              "</table>\n",
              "</div>\n",
              "    <div class=\"colab-df-buttons\">\n",
              "\n",
              "  <div class=\"colab-df-container\">\n",
              "    <button class=\"colab-df-convert\" onclick=\"convertToInteractive('df-ec7f1135-8df0-4e48-8f83-638e7a863220')\"\n",
              "            title=\"Convert this dataframe to an interactive table.\"\n",
              "            style=\"display:none;\">\n",
              "\n",
              "  <svg xmlns=\"http://www.w3.org/2000/svg\" height=\"24px\" viewBox=\"0 -960 960 960\">\n",
              "    <path d=\"M120-120v-720h720v720H120Zm60-500h600v-160H180v160Zm220 220h160v-160H400v160Zm0 220h160v-160H400v160ZM180-400h160v-160H180v160Zm440 0h160v-160H620v160ZM180-180h160v-160H180v160Zm440 0h160v-160H620v160Z\"/>\n",
              "  </svg>\n",
              "    </button>\n",
              "\n",
              "  <style>\n",
              "    .colab-df-container {\n",
              "      display:flex;\n",
              "      gap: 12px;\n",
              "    }\n",
              "\n",
              "    .colab-df-convert {\n",
              "      background-color: #E8F0FE;\n",
              "      border: none;\n",
              "      border-radius: 50%;\n",
              "      cursor: pointer;\n",
              "      display: none;\n",
              "      fill: #1967D2;\n",
              "      height: 32px;\n",
              "      padding: 0 0 0 0;\n",
              "      width: 32px;\n",
              "    }\n",
              "\n",
              "    .colab-df-convert:hover {\n",
              "      background-color: #E2EBFA;\n",
              "      box-shadow: 0px 1px 2px rgba(60, 64, 67, 0.3), 0px 1px 3px 1px rgba(60, 64, 67, 0.15);\n",
              "      fill: #174EA6;\n",
              "    }\n",
              "\n",
              "    .colab-df-buttons div {\n",
              "      margin-bottom: 4px;\n",
              "    }\n",
              "\n",
              "    [theme=dark] .colab-df-convert {\n",
              "      background-color: #3B4455;\n",
              "      fill: #D2E3FC;\n",
              "    }\n",
              "\n",
              "    [theme=dark] .colab-df-convert:hover {\n",
              "      background-color: #434B5C;\n",
              "      box-shadow: 0px 1px 3px 1px rgba(0, 0, 0, 0.15);\n",
              "      filter: drop-shadow(0px 1px 2px rgba(0, 0, 0, 0.3));\n",
              "      fill: #FFFFFF;\n",
              "    }\n",
              "  </style>\n",
              "\n",
              "    <script>\n",
              "      const buttonEl =\n",
              "        document.querySelector('#df-ec7f1135-8df0-4e48-8f83-638e7a863220 button.colab-df-convert');\n",
              "      buttonEl.style.display =\n",
              "        google.colab.kernel.accessAllowed ? 'block' : 'none';\n",
              "\n",
              "      async function convertToInteractive(key) {\n",
              "        const element = document.querySelector('#df-ec7f1135-8df0-4e48-8f83-638e7a863220');\n",
              "        const dataTable =\n",
              "          await google.colab.kernel.invokeFunction('convertToInteractive',\n",
              "                                                    [key], {});\n",
              "        if (!dataTable) return;\n",
              "\n",
              "        const docLinkHtml = 'Like what you see? Visit the ' +\n",
              "          '<a target=\"_blank\" href=https://colab.research.google.com/notebooks/data_table.ipynb>data table notebook</a>'\n",
              "          + ' to learn more about interactive tables.';\n",
              "        element.innerHTML = '';\n",
              "        dataTable['output_type'] = 'display_data';\n",
              "        await google.colab.output.renderOutput(dataTable, element);\n",
              "        const docLink = document.createElement('div');\n",
              "        docLink.innerHTML = docLinkHtml;\n",
              "        element.appendChild(docLink);\n",
              "      }\n",
              "    </script>\n",
              "  </div>\n",
              "\n",
              "\n",
              "<div id=\"df-219afebe-2338-4941-90fc-a1893fb0976e\">\n",
              "  <button class=\"colab-df-quickchart\" onclick=\"quickchart('df-219afebe-2338-4941-90fc-a1893fb0976e')\"\n",
              "            title=\"Suggest charts\"\n",
              "            style=\"display:none;\">\n",
              "\n",
              "<svg xmlns=\"http://www.w3.org/2000/svg\" height=\"24px\"viewBox=\"0 0 24 24\"\n",
              "     width=\"24px\">\n",
              "    <g>\n",
              "        <path d=\"M19 3H5c-1.1 0-2 .9-2 2v14c0 1.1.9 2 2 2h14c1.1 0 2-.9 2-2V5c0-1.1-.9-2-2-2zM9 17H7v-7h2v7zm4 0h-2V7h2v10zm4 0h-2v-4h2v4z\"/>\n",
              "    </g>\n",
              "</svg>\n",
              "  </button>\n",
              "\n",
              "<style>\n",
              "  .colab-df-quickchart {\n",
              "      --bg-color: #E8F0FE;\n",
              "      --fill-color: #1967D2;\n",
              "      --hover-bg-color: #E2EBFA;\n",
              "      --hover-fill-color: #174EA6;\n",
              "      --disabled-fill-color: #AAA;\n",
              "      --disabled-bg-color: #DDD;\n",
              "  }\n",
              "\n",
              "  [theme=dark] .colab-df-quickchart {\n",
              "      --bg-color: #3B4455;\n",
              "      --fill-color: #D2E3FC;\n",
              "      --hover-bg-color: #434B5C;\n",
              "      --hover-fill-color: #FFFFFF;\n",
              "      --disabled-bg-color: #3B4455;\n",
              "      --disabled-fill-color: #666;\n",
              "  }\n",
              "\n",
              "  .colab-df-quickchart {\n",
              "    background-color: var(--bg-color);\n",
              "    border: none;\n",
              "    border-radius: 50%;\n",
              "    cursor: pointer;\n",
              "    display: none;\n",
              "    fill: var(--fill-color);\n",
              "    height: 32px;\n",
              "    padding: 0;\n",
              "    width: 32px;\n",
              "  }\n",
              "\n",
              "  .colab-df-quickchart:hover {\n",
              "    background-color: var(--hover-bg-color);\n",
              "    box-shadow: 0 1px 2px rgba(60, 64, 67, 0.3), 0 1px 3px 1px rgba(60, 64, 67, 0.15);\n",
              "    fill: var(--button-hover-fill-color);\n",
              "  }\n",
              "\n",
              "  .colab-df-quickchart-complete:disabled,\n",
              "  .colab-df-quickchart-complete:disabled:hover {\n",
              "    background-color: var(--disabled-bg-color);\n",
              "    fill: var(--disabled-fill-color);\n",
              "    box-shadow: none;\n",
              "  }\n",
              "\n",
              "  .colab-df-spinner {\n",
              "    border: 2px solid var(--fill-color);\n",
              "    border-color: transparent;\n",
              "    border-bottom-color: var(--fill-color);\n",
              "    animation:\n",
              "      spin 1s steps(1) infinite;\n",
              "  }\n",
              "\n",
              "  @keyframes spin {\n",
              "    0% {\n",
              "      border-color: transparent;\n",
              "      border-bottom-color: var(--fill-color);\n",
              "      border-left-color: var(--fill-color);\n",
              "    }\n",
              "    20% {\n",
              "      border-color: transparent;\n",
              "      border-left-color: var(--fill-color);\n",
              "      border-top-color: var(--fill-color);\n",
              "    }\n",
              "    30% {\n",
              "      border-color: transparent;\n",
              "      border-left-color: var(--fill-color);\n",
              "      border-top-color: var(--fill-color);\n",
              "      border-right-color: var(--fill-color);\n",
              "    }\n",
              "    40% {\n",
              "      border-color: transparent;\n",
              "      border-right-color: var(--fill-color);\n",
              "      border-top-color: var(--fill-color);\n",
              "    }\n",
              "    60% {\n",
              "      border-color: transparent;\n",
              "      border-right-color: var(--fill-color);\n",
              "    }\n",
              "    80% {\n",
              "      border-color: transparent;\n",
              "      border-right-color: var(--fill-color);\n",
              "      border-bottom-color: var(--fill-color);\n",
              "    }\n",
              "    90% {\n",
              "      border-color: transparent;\n",
              "      border-bottom-color: var(--fill-color);\n",
              "    }\n",
              "  }\n",
              "</style>\n",
              "\n",
              "  <script>\n",
              "    async function quickchart(key) {\n",
              "      const quickchartButtonEl =\n",
              "        document.querySelector('#' + key + ' button');\n",
              "      quickchartButtonEl.disabled = true;  // To prevent multiple clicks.\n",
              "      quickchartButtonEl.classList.add('colab-df-spinner');\n",
              "      try {\n",
              "        const charts = await google.colab.kernel.invokeFunction(\n",
              "            'suggestCharts', [key], {});\n",
              "      } catch (error) {\n",
              "        console.error('Error during call to suggestCharts:', error);\n",
              "      }\n",
              "      quickchartButtonEl.classList.remove('colab-df-spinner');\n",
              "      quickchartButtonEl.classList.add('colab-df-quickchart-complete');\n",
              "    }\n",
              "    (() => {\n",
              "      let quickchartButtonEl =\n",
              "        document.querySelector('#df-219afebe-2338-4941-90fc-a1893fb0976e button');\n",
              "      quickchartButtonEl.style.display =\n",
              "        google.colab.kernel.accessAllowed ? 'block' : 'none';\n",
              "    })();\n",
              "  </script>\n",
              "</div>\n",
              "\n",
              "    </div>\n",
              "  </div>\n"
            ],
            "application/vnd.google.colaboratory.intrinsic+json": {
              "type": "dataframe",
              "variable_name": "df",
              "summary": "{\n  \"name\": \"df\",\n  \"rows\": 700,\n  \"fields\": [\n    {\n      \"column\": \"Date\",\n      \"properties\": {\n        \"dtype\": \"date\",\n        \"min\": \"2020-01-01 00:00:00\",\n        \"max\": \"2021-11-30 00:00:00\",\n        \"num_unique_values\": 700,\n        \"samples\": [\n          \"2020-06-07 00:00:00\",\n          \"2021-05-15 00:00:00\",\n          \"2021-01-31 00:00:00\"\n        ],\n        \"semantic_type\": \"\",\n        \"description\": \"\"\n      }\n    },\n    {\n      \"column\": \"Oil_Price\",\n      \"properties\": {\n        \"dtype\": \"number\",\n        \"std\": 3.6048075717057344,\n        \"min\": 42.5518602035814,\n        \"max\": 57.21284931193805,\n        \"num_unique_values\": 700,\n        \"samples\": [\n          43.50316892334239,\n          54.20344226872212,\n          44.90009050036897\n        ],\n        \"semantic_type\": \"\",\n        \"description\": \"\"\n      }\n    },\n    {\n      \"column\": \"Temperature\",\n      \"properties\": {\n        \"dtype\": \"number\",\n        \"std\": 6.679926155474307,\n        \"min\": 17.947019861613967,\n        \"max\": 41.86741000494999,\n        \"num_unique_values\": 700,\n        \"samples\": [\n          39.120978967389355,\n          39.40511290374954,\n          21.65086118358173\n        ],\n        \"semantic_type\": \"\",\n        \"description\": \"\"\n      }\n    }\n  ]\n}"
            }
          },
          "metadata": {},
          "execution_count": 2
        }
      ]
    },
    {
      "cell_type": "markdown",
      "source": [
        "# prepartation data"
      ],
      "metadata": {
        "id": "4azx5IKfnwKX"
      }
    },
    {
      "cell_type": "markdown",
      "source": [
        "![image.png](data:image/png;base64,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)"
      ],
      "metadata": {
        "id": "3lj9ZzdOhCPb"
      }
    },
    {
      "cell_type": "code",
      "source": [
        "time_step = 5 #ใช้ข้อมูลก่อนหน้า 5 ทำนาย"
      ],
      "metadata": {
        "id": "UtrRXe_ssVoW"
      },
      "execution_count": 3,
      "outputs": []
    },
    {
      "cell_type": "code",
      "source": [
        "df.head()"
      ],
      "metadata": {
        "colab": {
          "base_uri": "https://localhost:8080/",
          "height": 206
        },
        "id": "7EA3LZkJhGbf",
        "outputId": "c4a59a7f-5039-42a8-8431-a623b2ce7c5f"
      },
      "execution_count": 4,
      "outputs": [
        {
          "output_type": "execute_result",
          "data": {
            "text/plain": [
              "        Date  Oil_Price  Temperature\n",
              "0 2020-01-01  50.624577    30.756565\n",
              "1 2020-01-02  50.517657    30.306495\n",
              "2 2020-01-03  49.713281    31.087833\n",
              "3 2020-01-04  49.496190    30.286568\n",
              "4 2020-01-05  50.328691    30.114024"
            ],
            "text/html": [
              "\n",
              "  <div id=\"df-8d0572cd-6af0-4c16-bf6d-91e2c5137b22\" class=\"colab-df-container\">\n",
              "    <div>\n",
              "<style scoped>\n",
              "    .dataframe tbody tr th:only-of-type {\n",
              "        vertical-align: middle;\n",
              "    }\n",
              "\n",
              "    .dataframe tbody tr th {\n",
              "        vertical-align: top;\n",
              "    }\n",
              "\n",
              "    .dataframe thead th {\n",
              "        text-align: right;\n",
              "    }\n",
              "</style>\n",
              "<table border=\"1\" class=\"dataframe\">\n",
              "  <thead>\n",
              "    <tr style=\"text-align: right;\">\n",
              "      <th></th>\n",
              "      <th>Date</th>\n",
              "      <th>Oil_Price</th>\n",
              "      <th>Temperature</th>\n",
              "    </tr>\n",
              "  </thead>\n",
              "  <tbody>\n",
              "    <tr>\n",
              "      <th>0</th>\n",
              "      <td>2020-01-01</td>\n",
              "      <td>50.624577</td>\n",
              "      <td>30.756565</td>\n",
              "    </tr>\n",
              "    <tr>\n",
              "      <th>1</th>\n",
              "      <td>2020-01-02</td>\n",
              "      <td>50.517657</td>\n",
              "      <td>30.306495</td>\n",
              "    </tr>\n",
              "    <tr>\n",
              "      <th>2</th>\n",
              "      <td>2020-01-03</td>\n",
              "      <td>49.713281</td>\n",
              "      <td>31.087833</td>\n",
              "    </tr>\n",
              "    <tr>\n",
              "      <th>3</th>\n",
              "      <td>2020-01-04</td>\n",
              "      <td>49.496190</td>\n",
              "      <td>30.286568</td>\n",
              "    </tr>\n",
              "    <tr>\n",
              "      <th>4</th>\n",
              "      <td>2020-01-05</td>\n",
              "      <td>50.328691</td>\n",
              "      <td>30.114024</td>\n",
              "    </tr>\n",
              "  </tbody>\n",
              "</table>\n",
              "</div>\n",
              "    <div class=\"colab-df-buttons\">\n",
              "\n",
              "  <div class=\"colab-df-container\">\n",
              "    <button class=\"colab-df-convert\" onclick=\"convertToInteractive('df-8d0572cd-6af0-4c16-bf6d-91e2c5137b22')\"\n",
              "            title=\"Convert this dataframe to an interactive table.\"\n",
              "            style=\"display:none;\">\n",
              "\n",
              "  <svg xmlns=\"http://www.w3.org/2000/svg\" height=\"24px\" viewBox=\"0 -960 960 960\">\n",
              "    <path d=\"M120-120v-720h720v720H120Zm60-500h600v-160H180v160Zm220 220h160v-160H400v160Zm0 220h160v-160H400v160ZM180-400h160v-160H180v160Zm440 0h160v-160H620v160ZM180-180h160v-160H180v160Zm440 0h160v-160H620v160Z\"/>\n",
              "  </svg>\n",
              "    </button>\n",
              "\n",
              "  <style>\n",
              "    .colab-df-container {\n",
              "      display:flex;\n",
              "      gap: 12px;\n",
              "    }\n",
              "\n",
              "    .colab-df-convert {\n",
              "      background-color: #E8F0FE;\n",
              "      border: none;\n",
              "      border-radius: 50%;\n",
              "      cursor: pointer;\n",
              "      display: none;\n",
              "      fill: #1967D2;\n",
              "      height: 32px;\n",
              "      padding: 0 0 0 0;\n",
              "      width: 32px;\n",
              "    }\n",
              "\n",
              "    .colab-df-convert:hover {\n",
              "      background-color: #E2EBFA;\n",
              "      box-shadow: 0px 1px 2px rgba(60, 64, 67, 0.3), 0px 1px 3px 1px rgba(60, 64, 67, 0.15);\n",
              "      fill: #174EA6;\n",
              "    }\n",
              "\n",
              "    .colab-df-buttons div {\n",
              "      margin-bottom: 4px;\n",
              "    }\n",
              "\n",
              "    [theme=dark] .colab-df-convert {\n",
              "      background-color: #3B4455;\n",
              "      fill: #D2E3FC;\n",
              "    }\n",
              "\n",
              "    [theme=dark] .colab-df-convert:hover {\n",
              "      background-color: #434B5C;\n",
              "      box-shadow: 0px 1px 3px 1px rgba(0, 0, 0, 0.15);\n",
              "      filter: drop-shadow(0px 1px 2px rgba(0, 0, 0, 0.3));\n",
              "      fill: #FFFFFF;\n",
              "    }\n",
              "  </style>\n",
              "\n",
              "    <script>\n",
              "      const buttonEl =\n",
              "        document.querySelector('#df-8d0572cd-6af0-4c16-bf6d-91e2c5137b22 button.colab-df-convert');\n",
              "      buttonEl.style.display =\n",
              "        google.colab.kernel.accessAllowed ? 'block' : 'none';\n",
              "\n",
              "      async function convertToInteractive(key) {\n",
              "        const element = document.querySelector('#df-8d0572cd-6af0-4c16-bf6d-91e2c5137b22');\n",
              "        const dataTable =\n",
              "          await google.colab.kernel.invokeFunction('convertToInteractive',\n",
              "                                                    [key], {});\n",
              "        if (!dataTable) return;\n",
              "\n",
              "        const docLinkHtml = 'Like what you see? Visit the ' +\n",
              "          '<a target=\"_blank\" href=https://colab.research.google.com/notebooks/data_table.ipynb>data table notebook</a>'\n",
              "          + ' to learn more about interactive tables.';\n",
              "        element.innerHTML = '';\n",
              "        dataTable['output_type'] = 'display_data';\n",
              "        await google.colab.output.renderOutput(dataTable, element);\n",
              "        const docLink = document.createElement('div');\n",
              "        docLink.innerHTML = docLinkHtml;\n",
              "        element.appendChild(docLink);\n",
              "      }\n",
              "    </script>\n",
              "  </div>\n",
              "\n",
              "\n",
              "<div id=\"df-4aeabbfd-ea32-4de3-afd3-ddce4b93a770\">\n",
              "  <button class=\"colab-df-quickchart\" onclick=\"quickchart('df-4aeabbfd-ea32-4de3-afd3-ddce4b93a770')\"\n",
              "            title=\"Suggest charts\"\n",
              "            style=\"display:none;\">\n",
              "\n",
              "<svg xmlns=\"http://www.w3.org/2000/svg\" height=\"24px\"viewBox=\"0 0 24 24\"\n",
              "     width=\"24px\">\n",
              "    <g>\n",
              "        <path d=\"M19 3H5c-1.1 0-2 .9-2 2v14c0 1.1.9 2 2 2h14c1.1 0 2-.9 2-2V5c0-1.1-.9-2-2-2zM9 17H7v-7h2v7zm4 0h-2V7h2v10zm4 0h-2v-4h2v4z\"/>\n",
              "    </g>\n",
              "</svg>\n",
              "  </button>\n",
              "\n",
              "<style>\n",
              "  .colab-df-quickchart {\n",
              "      --bg-color: #E8F0FE;\n",
              "      --fill-color: #1967D2;\n",
              "      --hover-bg-color: #E2EBFA;\n",
              "      --hover-fill-color: #174EA6;\n",
              "      --disabled-fill-color: #AAA;\n",
              "      --disabled-bg-color: #DDD;\n",
              "  }\n",
              "\n",
              "  [theme=dark] .colab-df-quickchart {\n",
              "      --bg-color: #3B4455;\n",
              "      --fill-color: #D2E3FC;\n",
              "      --hover-bg-color: #434B5C;\n",
              "      --hover-fill-color: #FFFFFF;\n",
              "      --disabled-bg-color: #3B4455;\n",
              "      --disabled-fill-color: #666;\n",
              "  }\n",
              "\n",
              "  .colab-df-quickchart {\n",
              "    background-color: var(--bg-color);\n",
              "    border: none;\n",
              "    border-radius: 50%;\n",
              "    cursor: pointer;\n",
              "    display: none;\n",
              "    fill: var(--fill-color);\n",
              "    height: 32px;\n",
              "    padding: 0;\n",
              "    width: 32px;\n",
              "  }\n",
              "\n",
              "  .colab-df-quickchart:hover {\n",
              "    background-color: var(--hover-bg-color);\n",
              "    box-shadow: 0 1px 2px rgba(60, 64, 67, 0.3), 0 1px 3px 1px rgba(60, 64, 67, 0.15);\n",
              "    fill: var(--button-hover-fill-color);\n",
              "  }\n",
              "\n",
              "  .colab-df-quickchart-complete:disabled,\n",
              "  .colab-df-quickchart-complete:disabled:hover {\n",
              "    background-color: var(--disabled-bg-color);\n",
              "    fill: var(--disabled-fill-color);\n",
              "    box-shadow: none;\n",
              "  }\n",
              "\n",
              "  .colab-df-spinner {\n",
              "    border: 2px solid var(--fill-color);\n",
              "    border-color: transparent;\n",
              "    border-bottom-color: var(--fill-color);\n",
              "    animation:\n",
              "      spin 1s steps(1) infinite;\n",
              "  }\n",
              "\n",
              "  @keyframes spin {\n",
              "    0% {\n",
              "      border-color: transparent;\n",
              "      border-bottom-color: var(--fill-color);\n",
              "      border-left-color: var(--fill-color);\n",
              "    }\n",
              "    20% {\n",
              "      border-color: transparent;\n",
              "      border-left-color: var(--fill-color);\n",
              "      border-top-color: var(--fill-color);\n",
              "    }\n",
              "    30% {\n",
              "      border-color: transparent;\n",
              "      border-left-color: var(--fill-color);\n",
              "      border-top-color: var(--fill-color);\n",
              "      border-right-color: var(--fill-color);\n",
              "    }\n",
              "    40% {\n",
              "      border-color: transparent;\n",
              "      border-right-color: var(--fill-color);\n",
              "      border-top-color: var(--fill-color);\n",
              "    }\n",
              "    60% {\n",
              "      border-color: transparent;\n",
              "      border-right-color: var(--fill-color);\n",
              "    }\n",
              "    80% {\n",
              "      border-color: transparent;\n",
              "      border-right-color: var(--fill-color);\n",
              "      border-bottom-color: var(--fill-color);\n",
              "    }\n",
              "    90% {\n",
              "      border-color: transparent;\n",
              "      border-bottom-color: var(--fill-color);\n",
              "    }\n",
              "  }\n",
              "</style>\n",
              "\n",
              "  <script>\n",
              "    async function quickchart(key) {\n",
              "      const quickchartButtonEl =\n",
              "        document.querySelector('#' + key + ' button');\n",
              "      quickchartButtonEl.disabled = true;  // To prevent multiple clicks.\n",
              "      quickchartButtonEl.classList.add('colab-df-spinner');\n",
              "      try {\n",
              "        const charts = await google.colab.kernel.invokeFunction(\n",
              "            'suggestCharts', [key], {});\n",
              "      } catch (error) {\n",
              "        console.error('Error during call to suggestCharts:', error);\n",
              "      }\n",
              "      quickchartButtonEl.classList.remove('colab-df-spinner');\n",
              "      quickchartButtonEl.classList.add('colab-df-quickchart-complete');\n",
              "    }\n",
              "    (() => {\n",
              "      let quickchartButtonEl =\n",
              "        document.querySelector('#df-4aeabbfd-ea32-4de3-afd3-ddce4b93a770 button');\n",
              "      quickchartButtonEl.style.display =\n",
              "        google.colab.kernel.accessAllowed ? 'block' : 'none';\n",
              "    })();\n",
              "  </script>\n",
              "</div>\n",
              "\n",
              "    </div>\n",
              "  </div>\n"
            ],
            "application/vnd.google.colaboratory.intrinsic+json": {
              "type": "dataframe",
              "variable_name": "df",
              "summary": "{\n  \"name\": \"df\",\n  \"rows\": 700,\n  \"fields\": [\n    {\n      \"column\": \"Date\",\n      \"properties\": {\n        \"dtype\": \"date\",\n        \"min\": \"2020-01-01 00:00:00\",\n        \"max\": \"2021-11-30 00:00:00\",\n        \"num_unique_values\": 700,\n        \"samples\": [\n          \"2020-06-07 00:00:00\",\n          \"2021-05-15 00:00:00\",\n          \"2021-01-31 00:00:00\"\n        ],\n        \"semantic_type\": \"\",\n        \"description\": \"\"\n      }\n    },\n    {\n      \"column\": \"Oil_Price\",\n      \"properties\": {\n        \"dtype\": \"number\",\n        \"std\": 3.6048075717057344,\n        \"min\": 42.5518602035814,\n        \"max\": 57.21284931193805,\n        \"num_unique_values\": 700,\n        \"samples\": [\n          43.50316892334239,\n          54.20344226872212,\n          44.90009050036897\n        ],\n        \"semantic_type\": \"\",\n        \"description\": \"\"\n      }\n    },\n    {\n      \"column\": \"Temperature\",\n      \"properties\": {\n        \"dtype\": \"number\",\n        \"std\": 6.679926155474307,\n        \"min\": 17.947019861613967,\n        \"max\": 41.86741000494999,\n        \"num_unique_values\": 700,\n        \"samples\": [\n          39.120978967389355,\n          39.40511290374954,\n          21.65086118358173\n        ],\n        \"semantic_type\": \"\",\n        \"description\": \"\"\n      }\n    }\n  ]\n}"
            }
          },
          "metadata": {},
          "execution_count": 4
        }
      ]
    },
    {
      "cell_type": "code",
      "source": [
        "X, y = [], []\n",
        "\n",
        "for i in range(len(df) - time_step):\n",
        "    X.append(df.iloc[i:i+time_step, 1:].values)\n",
        "    # iloc[0:1+5] = [0 1 2 3 4]\n",
        "    y.append(df.iloc[i+1:i+time_step+1, 1:].values)\n",
        "    # iloc[0+5] = [1 2 3 4 5]\n"
      ],
      "metadata": {
        "id": "5j_r19Qan0Y3"
      },
      "execution_count": 5,
      "outputs": []
    },
    {
      "cell_type": "code",
      "source": [
        "X[:2]"
      ],
      "metadata": {
        "colab": {
          "base_uri": "https://localhost:8080/"
        },
        "id": "7p7U50Fctq9U",
        "outputId": "81737a04-a9db-4a73-8c19-37ded7ebebb7"
      },
      "execution_count": 6,
      "outputs": [
        {
          "output_type": "execute_result",
          "data": {
            "text/plain": [
              "[array([[50.62457654, 30.75656485],\n",
              "        [50.51765688, 30.30649506],\n",
              "        [49.7132807 , 31.08783323],\n",
              "        [49.49618983, 30.28656849],\n",
              "        [50.32869147, 30.11402354]]),\n",
              " array([[50.51765688, 30.30649506],\n",
              "        [49.7132807 , 31.08783323],\n",
              "        [49.49618983, 30.28656849],\n",
              "        [50.32869147, 30.11402354],\n",
              "        [52.569483  , 31.78944547]])]"
            ]
          },
          "metadata": {},
          "execution_count": 6
        }
      ]
    },
    {
      "cell_type": "code",
      "source": [
        "y[:2]"
      ],
      "metadata": {
        "colab": {
          "base_uri": "https://localhost:8080/"
        },
        "id": "jPKWVg9TiGbA",
        "outputId": "a557b72b-2227-498d-b9a4-dba202f36382"
      },
      "execution_count": 7,
      "outputs": [
        {
          "output_type": "execute_result",
          "data": {
            "text/plain": [
              "[array([[50.51765688, 30.30649506],\n",
              "        [49.7132807 , 31.08783323],\n",
              "        [49.49618983, 30.28656849],\n",
              "        [50.32869147, 30.11402354],\n",
              "        [52.569483  , 31.78944547]]),\n",
              " array([[49.7132807 , 31.08783323],\n",
              "        [49.49618983, 30.28656849],\n",
              "        [50.32869147, 30.11402354],\n",
              "        [52.569483  , 31.78944547],\n",
              "        [48.72056411, 32.27772425]])]"
            ]
          },
          "metadata": {},
          "execution_count": 7
        }
      ]
    },
    {
      "cell_type": "code",
      "source": [
        "# แปลงเป็น numpy array\n",
        "X = np.array(X)\n",
        "y = np.array(y)\n",
        "\n",
        "# ตรวจสอบ shape\n",
        "X.shape, y.shape"
      ],
      "metadata": {
        "colab": {
          "base_uri": "https://localhost:8080/"
        },
        "id": "RcZcj17moZb-",
        "outputId": "9f071f7e-0eea-4e77-a1ac-d29375be8d14"
      },
      "execution_count": 8,
      "outputs": [
        {
          "output_type": "execute_result",
          "data": {
            "text/plain": [
              "((695, 5, 2), (695, 5, 2))"
            ]
          },
          "metadata": {},
          "execution_count": 8
        }
      ]
    },
    {
      "cell_type": "markdown",
      "source": [
        "# splitting data"
      ],
      "metadata": {
        "id": "pn6ZVp36vovL"
      }
    },
    {
      "cell_type": "code",
      "source": [
        "# แบ่งข้อมูล Train (70%) และ (Val+Test) (30%)\n",
        "X_train, X_temp, y_train, y_temp = train_test_split(X, y, test_size=0.4, shuffle=False) #ห้ามสุ่มเพราะเป็น time series\n",
        "X_val, X_test, y_val, y_test = train_test_split(X_temp, y_temp, test_size=0.5, shuffle=False)"
      ],
      "metadata": {
        "id": "KdkfwENNvq67"
      },
      "execution_count": 9,
      "outputs": []
    },
    {
      "cell_type": "code",
      "source": [
        "X_train.reshape(-1, X_train.shape[-1]) #ลดให้เหลือ 2D เพราะ standardization must 2d"
      ],
      "metadata": {
        "colab": {
          "base_uri": "https://localhost:8080/"
        },
        "id": "EMQw0dSaxsjS",
        "outputId": "15ec3939-46f2-4ce9-e674-f340a60c9908"
      },
      "execution_count": 10,
      "outputs": [
        {
          "output_type": "execute_result",
          "data": {
            "text/plain": [
              "array([[50.62457654, 30.75656485],\n",
              "       [50.51765688, 30.30649506],\n",
              "       [49.7132807 , 31.08783323],\n",
              "       ...,\n",
              "       [46.50021637, 27.61441534],\n",
              "       [47.11815759, 26.7378184 ],\n",
              "       [46.43049237, 27.99142818]])"
            ]
          },
          "metadata": {},
          "execution_count": 10
        }
      ]
    },
    {
      "cell_type": "code",
      "source": [
        "#แปลงกลับ\n",
        "X_train.reshape(-1, X_train.shape[-1]).reshape(X_train.shape)[:2] # == x_train แปลงกลับมา 3D เหมือนเดิม"
      ],
      "metadata": {
        "colab": {
          "base_uri": "https://localhost:8080/"
        },
        "id": "ecwUUM_gxz-8",
        "outputId": "c9db0849-de5b-49d7-cde1-f7f276f5d384"
      },
      "execution_count": 11,
      "outputs": [
        {
          "output_type": "execute_result",
          "data": {
            "text/plain": [
              "array([[[50.62457654, 30.75656485],\n",
              "        [50.51765688, 30.30649506],\n",
              "        [49.7132807 , 31.08783323],\n",
              "        [49.49618983, 30.28656849],\n",
              "        [50.32869147, 30.11402354]],\n",
              "\n",
              "       [[50.51765688, 30.30649506],\n",
              "        [49.7132807 , 31.08783323],\n",
              "        [49.49618983, 30.28656849],\n",
              "        [50.32869147, 30.11402354],\n",
              "        [52.569483  , 31.78944547]]])"
            ]
          },
          "metadata": {},
          "execution_count": 11
        }
      ]
    },
    {
      "cell_type": "code",
      "source": [
        "\n",
        "# สร้างตัวแปร StandardScaler\n",
        "scaler_X = MinMaxScaler()\n",
        "scaler_y = MinMaxScaler()\n",
        "\n",
        "# Fit transform กับ Training data และ Transform ชุดอื่น ๆ\n",
        "X_train_scaled = scaler_X.fit_transform(X_train.reshape(-1, X_train.shape[-1])).reshape(X_train.shape)\n",
        "X_val_scaled = scaler_X.transform(X_val.reshape(-1, X_val.shape[-1])).reshape(X_val.shape)\n",
        "X_test_scaled = scaler_X.transform(X_test.reshape(-1, X_test.shape[-1])).reshape(X_test.shape)\n",
        "\n",
        "y_train_scaled = scaler_y.fit_transform(y_train.reshape(-1, y_train.shape[-1])).reshape(y_train.shape)\n",
        "y_val_scaled = scaler_y.transform(y_val.reshape(-1, y_val.shape[-1])).reshape(y_val.shape)\n",
        "y_test_scaled = scaler_y.transform(y_test.reshape(-1, y_test.shape[-1])).reshape(y_test.shape)\n",
        "\n",
        "# ตรวจสอบ shape\n",
        "print(\"Train shape:\", X_train_scaled.shape, y_train_scaled.shape)\n",
        "print(\"Validation shape:\", X_val_scaled.shape, y_val_scaled.shape)\n",
        "print(\"Test shape:\", X_test_scaled.shape, y_test_scaled.shape)\n"
      ],
      "metadata": {
        "colab": {
          "base_uri": "https://localhost:8080/"
        },
        "id": "jjyOK307w6d7",
        "outputId": "df2800bc-1ba4-4b6f-bde0-8330506dca68"
      },
      "execution_count": 12,
      "outputs": [
        {
          "output_type": "stream",
          "name": "stdout",
          "text": [
            "Train shape: (417, 5, 2) (417, 5, 2)\n",
            "Validation shape: (139, 5, 2) (139, 5, 2)\n",
            "Test shape: (139, 5, 2) (139, 5, 2)\n"
          ]
        }
      ]
    },
    {
      "cell_type": "markdown",
      "source": [
        "![image.png](data:image/png;base64,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)"
      ],
      "metadata": {
        "id": "k7hBccPw0cCK"
      }
    },
    {
      "cell_type": "code",
      "source": [
        "X_train_scaled.shape"
      ],
      "metadata": {
        "colab": {
          "base_uri": "https://localhost:8080/"
        },
        "id": "L-zYTRkN4EDc",
        "outputId": "1e0faf47-b5bd-4477-8999-d121b0d1baa6"
      },
      "execution_count": 13,
      "outputs": [
        {
          "output_type": "execute_result",
          "data": {
            "text/plain": [
              "(417, 5, 2)"
            ]
          },
          "metadata": {},
          "execution_count": 13
        }
      ]
    },
    {
      "cell_type": "markdown",
      "source": [
        "# Model"
      ],
      "metadata": {
        "id": "2HdxoPO-EEKS"
      }
    },
    {
      "cell_type": "code",
      "source": [
        "\"\"\"\n",
        "Many to one  = return_sequences=True\n",
        "input_shape = (time_steps, features)\n",
        "\n",
        "\"\"\"\n",
        "\n",
        "# สร้างโมเดล LSTM (Many-to-One)\n",
        "model = Sequential([\n",
        "    GRU(256, activation='gelu', return_sequences=True, input_shape=(X_train_scaled.shape[1], X_train_scaled.shape[2])),\n",
        "    Dense(256, activation='gelu'), #FC\n",
        "    BatchNormalization(),\n",
        "    Dense(128, activation='gelu'), #FC\n",
        "    Dense(2)  # Output 2 ค่า (Oil_Price, Temperature)\n",
        "])\n",
        "\n",
        "# คอมไพล์โมเดล\n",
        "model.compile(optimizer=Adam(learning_rate=0.0001), loss='mse')\n",
        "\n",
        "# Train โมเดล\n",
        "history = model.fit(X_train_scaled, y_train_scaled,\n",
        "                    validation_data=(X_val_scaled, y_val_scaled),\n",
        "                    epochs=50, batch_size=64, verbose=1)"
      ],
      "metadata": {
        "colab": {
          "base_uri": "https://localhost:8080/"
        },
        "id": "8FAi2sW9zO1m",
        "outputId": "e7222153-5df7-4c51-fe95-80f854196296"
      },
      "execution_count": 29,
      "outputs": [
        {
          "output_type": "stream",
          "name": "stdout",
          "text": [
            "Epoch 1/50\n"
          ]
        },
        {
          "output_type": "stream",
          "name": "stderr",
          "text": [
            "Exception ignored in: <function _xla_gc_callback at 0x7b791a193ce0>\n",
            "Traceback (most recent call last):\n",
            "  File \"/usr/local/lib/python3.11/dist-packages/jax/_src/lib/__init__.py\", line 96, in _xla_gc_callback\n",
            "    def _xla_gc_callback(*args):\n",
            "    \n",
            "KeyboardInterrupt: \n"
          ]
        },
        {
          "output_type": "stream",
          "name": "stdout",
          "text": [
            "\u001b[1m7/7\u001b[0m \u001b[32m━━━━━━━━━━━━━━━━━━━━\u001b[0m\u001b[37m\u001b[0m \u001b[1m39s\u001b[0m 202ms/step - loss: 0.3378 - val_loss: 0.4959\n",
            "Epoch 2/50\n",
            "\u001b[1m7/7\u001b[0m \u001b[32m━━━━━━━━━━━━━━━━━━━━\u001b[0m\u001b[37m\u001b[0m \u001b[1m2s\u001b[0m 170ms/step - loss: 0.2457 - val_loss: 0.4761\n",
            "Epoch 3/50\n",
            "\u001b[1m7/7\u001b[0m \u001b[32m━━━━━━━━━━━━━━━━━━━━\u001b[0m\u001b[37m\u001b[0m \u001b[1m1s\u001b[0m 117ms/step - loss: 0.2063 - val_loss: 0.4699\n",
            "Epoch 4/50\n",
            "\u001b[1m7/7\u001b[0m \u001b[32m━━━━━━━━━━━━━━━━━━━━\u001b[0m\u001b[37m\u001b[0m \u001b[1m1s\u001b[0m 114ms/step - loss: 0.1459 - val_loss: 0.4645\n",
            "Epoch 5/50\n",
            "\u001b[1m7/7\u001b[0m \u001b[32m━━━━━━━━━━━━━━━━━━━━\u001b[0m\u001b[37m\u001b[0m \u001b[1m1s\u001b[0m 129ms/step - loss: 0.1025 - val_loss: 0.4540\n",
            "Epoch 6/50\n",
            "\u001b[1m7/7\u001b[0m \u001b[32m━━━━━━━━━━━━━━━━━━━━\u001b[0m\u001b[37m\u001b[0m \u001b[1m1s\u001b[0m 132ms/step - loss: 0.0735 - val_loss: 0.4450\n",
            "Epoch 7/50\n",
            "\u001b[1m7/7\u001b[0m \u001b[32m━━━━━━━━━━━━━━━━━━━━\u001b[0m\u001b[37m\u001b[0m \u001b[1m1s\u001b[0m 131ms/step - loss: 0.0674 - val_loss: 0.4378\n",
            "Epoch 8/50\n",
            "\u001b[1m7/7\u001b[0m \u001b[32m━━━━━━━━━━━━━━━━━━━━\u001b[0m\u001b[37m\u001b[0m \u001b[1m1s\u001b[0m 118ms/step - loss: 0.0577 - val_loss: 0.4301\n",
            "Epoch 9/50\n",
            "\u001b[1m7/7\u001b[0m \u001b[32m━━━━━━━━━━━━━━━━━━━━\u001b[0m\u001b[37m\u001b[0m \u001b[1m1s\u001b[0m 126ms/step - loss: 0.0507 - val_loss: 0.4189\n",
            "Epoch 10/50\n",
            "\u001b[1m7/7\u001b[0m \u001b[32m━━━━━━━━━━━━━━━━━━━━\u001b[0m\u001b[37m\u001b[0m \u001b[1m1s\u001b[0m 116ms/step - loss: 0.0516 - val_loss: 0.4112\n",
            "Epoch 11/50\n",
            "\u001b[1m7/7\u001b[0m \u001b[32m━━━━━━━━━━━━━━━━━━━━\u001b[0m\u001b[37m\u001b[0m \u001b[1m1s\u001b[0m 127ms/step - loss: 0.0465 - val_loss: 0.4094\n",
            "Epoch 12/50\n",
            "\u001b[1m7/7\u001b[0m \u001b[32m━━━━━━━━━━━━━━━━━━━━\u001b[0m\u001b[37m\u001b[0m \u001b[1m1s\u001b[0m 200ms/step - loss: 0.0445 - val_loss: 0.3971\n",
            "Epoch 13/50\n",
            "\u001b[1m7/7\u001b[0m \u001b[32m━━━━━━━━━━━━━━━━━━━━\u001b[0m\u001b[37m\u001b[0m \u001b[1m1s\u001b[0m 194ms/step - loss: 0.0415 - val_loss: 0.3940\n",
            "Epoch 14/50\n",
            "\u001b[1m7/7\u001b[0m \u001b[32m━━━━━━━━━━━━━━━━━━━━\u001b[0m\u001b[37m\u001b[0m \u001b[1m2s\u001b[0m 133ms/step - loss: 0.0395 - val_loss: 0.3848\n",
            "Epoch 15/50\n",
            "\u001b[1m7/7\u001b[0m \u001b[32m━━━━━━━━━━━━━━━━━━━━\u001b[0m\u001b[37m\u001b[0m \u001b[1m1s\u001b[0m 115ms/step - loss: 0.0386 - val_loss: 0.3782\n",
            "Epoch 16/50\n",
            "\u001b[1m7/7\u001b[0m \u001b[32m━━━━━━━━━━━━━━━━━━━━\u001b[0m\u001b[37m\u001b[0m \u001b[1m1s\u001b[0m 116ms/step - loss: 0.0359 - val_loss: 0.3715\n",
            "Epoch 17/50\n",
            "\u001b[1m7/7\u001b[0m \u001b[32m━━━━━━━━━━━━━━━━━━━━\u001b[0m\u001b[37m\u001b[0m \u001b[1m1s\u001b[0m 117ms/step - loss: 0.0370 - val_loss: 0.3627\n",
            "Epoch 18/50\n",
            "\u001b[1m7/7\u001b[0m \u001b[32m━━━━━━━━━━━━━━━━━━━━\u001b[0m\u001b[37m\u001b[0m \u001b[1m2s\u001b[0m 199ms/step - loss: 0.0322 - val_loss: 0.3591\n",
            "Epoch 19/50\n",
            "\u001b[1m7/7\u001b[0m \u001b[32m━━━━━━━━━━━━━━━━━━━━\u001b[0m\u001b[37m\u001b[0m \u001b[1m1s\u001b[0m 132ms/step - loss: 0.0293 - val_loss: 0.3473\n",
            "Epoch 20/50\n",
            "\u001b[1m7/7\u001b[0m \u001b[32m━━━━━━━━━━━━━━━━━━━━\u001b[0m\u001b[37m\u001b[0m \u001b[1m1s\u001b[0m 132ms/step - loss: 0.0294 - val_loss: 0.3458\n",
            "Epoch 21/50\n",
            "\u001b[1m7/7\u001b[0m \u001b[32m━━━━━━━━━━━━━━━━━━━━\u001b[0m\u001b[37m\u001b[0m \u001b[1m1s\u001b[0m 144ms/step - loss: 0.0270 - val_loss: 0.3334\n",
            "Epoch 22/50\n",
            "\u001b[1m7/7\u001b[0m \u001b[32m━━━━━━━━━━━━━━━━━━━━\u001b[0m\u001b[37m\u001b[0m \u001b[1m2s\u001b[0m 204ms/step - loss: 0.0250 - val_loss: 0.3301\n",
            "Epoch 23/50\n",
            "\u001b[1m7/7\u001b[0m \u001b[32m━━━━━━━━━━━━━━━━━━━━\u001b[0m\u001b[37m\u001b[0m \u001b[1m3s\u001b[0m 261ms/step - loss: 0.0227 - val_loss: 0.3197\n",
            "Epoch 24/50\n",
            "\u001b[1m7/7\u001b[0m \u001b[32m━━━━━━━━━━━━━━━━━━━━\u001b[0m\u001b[37m\u001b[0m \u001b[1m2s\u001b[0m 240ms/step - loss: 0.0200 - val_loss: 0.3153\n",
            "Epoch 25/50\n",
            "\u001b[1m7/7\u001b[0m \u001b[32m━━━━━━━━━━━━━━━━━━━━\u001b[0m\u001b[37m\u001b[0m \u001b[1m3s\u001b[0m 280ms/step - loss: 0.0207 - val_loss: 0.3087\n",
            "Epoch 26/50\n",
            "\u001b[1m7/7\u001b[0m \u001b[32m━━━━━━━━━━━━━━━━━━━━\u001b[0m\u001b[37m\u001b[0m \u001b[1m2s\u001b[0m 240ms/step - loss: 0.0170 - val_loss: 0.3007\n",
            "Epoch 27/50\n",
            "\u001b[1m7/7\u001b[0m \u001b[32m━━━━━━━━━━━━━━━━━━━━\u001b[0m\u001b[37m\u001b[0m \u001b[1m2s\u001b[0m 132ms/step - loss: 0.0166 - val_loss: 0.2943\n",
            "Epoch 28/50\n",
            "\u001b[1m7/7\u001b[0m \u001b[32m━━━━━━━━━━━━━━━━━━━━\u001b[0m\u001b[37m\u001b[0m \u001b[1m1s\u001b[0m 205ms/step - loss: 0.0148 - val_loss: 0.2900\n",
            "Epoch 29/50\n",
            "\u001b[1m7/7\u001b[0m \u001b[32m━━━━━━━━━━━━━━━━━━━━\u001b[0m\u001b[37m\u001b[0m \u001b[1m2s\u001b[0m 117ms/step - loss: 0.0144 - val_loss: 0.2858\n",
            "Epoch 30/50\n",
            "\u001b[1m7/7\u001b[0m \u001b[32m━━━━━━━━━━━━━━━━━━━━\u001b[0m\u001b[37m\u001b[0m \u001b[1m1s\u001b[0m 134ms/step - loss: 0.0139 - val_loss: 0.2777\n",
            "Epoch 31/50\n",
            "\u001b[1m7/7\u001b[0m \u001b[32m━━━━━━━━━━━━━━━━━━━━\u001b[0m\u001b[37m\u001b[0m \u001b[1m1s\u001b[0m 131ms/step - loss: 0.0146 - val_loss: 0.2785\n",
            "Epoch 32/50\n",
            "\u001b[1m7/7\u001b[0m \u001b[32m━━━━━━━━━━━━━━━━━━━━\u001b[0m\u001b[37m\u001b[0m \u001b[1m1s\u001b[0m 128ms/step - loss: 0.0145 - val_loss: 0.2706\n",
            "Epoch 33/50\n",
            "\u001b[1m7/7\u001b[0m \u001b[32m━━━━━━━━━━━━━━━━━━━━\u001b[0m\u001b[37m\u001b[0m \u001b[1m1s\u001b[0m 122ms/step - loss: 0.0129 - val_loss: 0.2710\n",
            "Epoch 34/50\n",
            "\u001b[1m7/7\u001b[0m \u001b[32m━━━━━━━━━━━━━━━━━━━━\u001b[0m\u001b[37m\u001b[0m \u001b[1m1s\u001b[0m 139ms/step - loss: 0.0123 - val_loss: 0.2726\n",
            "Epoch 35/50\n",
            "\u001b[1m7/7\u001b[0m \u001b[32m━━━━━━━━━━━━━━━━━━━━\u001b[0m\u001b[37m\u001b[0m \u001b[1m1s\u001b[0m 139ms/step - loss: 0.0125 - val_loss: 0.2636\n",
            "Epoch 36/50\n",
            "\u001b[1m7/7\u001b[0m \u001b[32m━━━━━━━━━━━━━━━━━━━━\u001b[0m\u001b[37m\u001b[0m \u001b[1m1s\u001b[0m 135ms/step - loss: 0.0120 - val_loss: 0.2619\n",
            "Epoch 37/50\n",
            "\u001b[1m7/7\u001b[0m \u001b[32m━━━━━━━━━━━━━━━━━━━━\u001b[0m\u001b[37m\u001b[0m \u001b[1m1s\u001b[0m 126ms/step - loss: 0.0117 - val_loss: 0.2610\n",
            "Epoch 38/50\n",
            "\u001b[1m7/7\u001b[0m \u001b[32m━━━━━━━━━━━━━━━━━━━━\u001b[0m\u001b[37m\u001b[0m \u001b[1m1s\u001b[0m 196ms/step - loss: 0.0106 - val_loss: 0.2635\n",
            "Epoch 39/50\n",
            "\u001b[1m7/7\u001b[0m \u001b[32m━━━━━━━━━━━━━━━━━━━━\u001b[0m\u001b[37m\u001b[0m \u001b[1m2s\u001b[0m 218ms/step - loss: 0.0109 - val_loss: 0.2566\n",
            "Epoch 40/50\n",
            "\u001b[1m7/7\u001b[0m \u001b[32m━━━━━━━━━━━━━━━━━━━━\u001b[0m\u001b[37m\u001b[0m \u001b[1m2s\u001b[0m 142ms/step - loss: 0.0111 - val_loss: 0.2547\n",
            "Epoch 41/50\n",
            "\u001b[1m7/7\u001b[0m \u001b[32m━━━━━━━━━━━━━━━━━━━━\u001b[0m\u001b[37m\u001b[0m \u001b[1m1s\u001b[0m 121ms/step - loss: 0.0106 - val_loss: 0.2537\n",
            "Epoch 42/50\n",
            "\u001b[1m7/7\u001b[0m \u001b[32m━━━━━━━━━━━━━━━━━━━━\u001b[0m\u001b[37m\u001b[0m \u001b[1m1s\u001b[0m 119ms/step - loss: 0.0104 - val_loss: 0.2541\n",
            "Epoch 43/50\n",
            "\u001b[1m7/7\u001b[0m \u001b[32m━━━━━━━━━━━━━━━━━━━━\u001b[0m\u001b[37m\u001b[0m \u001b[1m1s\u001b[0m 131ms/step - loss: 0.0095 - val_loss: 0.2540\n",
            "Epoch 44/50\n",
            "\u001b[1m7/7\u001b[0m \u001b[32m━━━━━━━━━━━━━━━━━━━━\u001b[0m\u001b[37m\u001b[0m \u001b[1m1s\u001b[0m 135ms/step - loss: 0.0092 - val_loss: 0.2454\n",
            "Epoch 45/50\n",
            "\u001b[1m7/7\u001b[0m \u001b[32m━━━━━━━━━━━━━━━━━━━━\u001b[0m\u001b[37m\u001b[0m \u001b[1m1s\u001b[0m 138ms/step - loss: 0.0097 - val_loss: 0.2474\n",
            "Epoch 46/50\n",
            "\u001b[1m7/7\u001b[0m \u001b[32m━━━━━━━━━━━━━━━━━━━━\u001b[0m\u001b[37m\u001b[0m \u001b[1m1s\u001b[0m 134ms/step - loss: 0.0105 - val_loss: 0.2586\n",
            "Epoch 47/50\n",
            "\u001b[1m7/7\u001b[0m \u001b[32m━━━━━━━━━━━━━━━━━━━━\u001b[0m\u001b[37m\u001b[0m \u001b[1m1s\u001b[0m 124ms/step - loss: 0.0106 - val_loss: 0.2376\n",
            "Epoch 48/50\n",
            "\u001b[1m7/7\u001b[0m \u001b[32m━━━━━━━━━━━━━━━━━━━━\u001b[0m\u001b[37m\u001b[0m \u001b[1m1s\u001b[0m 136ms/step - loss: 0.0091 - val_loss: 0.2380\n",
            "Epoch 49/50\n",
            "\u001b[1m7/7\u001b[0m \u001b[32m━━━━━━━━━━━━━━━━━━━━\u001b[0m\u001b[37m\u001b[0m \u001b[1m2s\u001b[0m 189ms/step - loss: 0.0089 - val_loss: 0.2408\n",
            "Epoch 50/50\n",
            "\u001b[1m7/7\u001b[0m \u001b[32m━━━━━━━━━━━━━━━━━━━━\u001b[0m\u001b[37m\u001b[0m \u001b[1m1s\u001b[0m 161ms/step - loss: 0.0097 - val_loss: 0.2364\n"
          ]
        }
      ]
    },
    {
      "cell_type": "code",
      "source": [
        "plt.plot(history.history['loss'], label='Train Loss')\n",
        "plt.plot(history.history['val_loss'], label='Validation Loss')\n",
        "plt.xlabel('Epoch')\n",
        "plt.ylabel('Loss')\n",
        "plt.legend()\n",
        "plt.title('Training and Validation Loss')\n",
        "plt.show()"
      ],
      "metadata": {
        "colab": {
          "base_uri": "https://localhost:8080/",
          "height": 472
        },
        "id": "9Dj6UY-UA-bq",
        "outputId": "65f0c243-1ebc-407c-d752-8fbffef7531f"
      },
      "execution_count": 25,
      "outputs": [
        {
          "output_type": "display_data",
          "data": {
            "text/plain": [
              "<Figure size 640x480 with 1 Axes>"
            ],
            "image/png": "[encoded data removed]"
          },
          "metadata": {}
        }
      ]
    },
    {
      "cell_type": "code",
      "source": [
        "# ทดสอบโมเดลกับ Test set\n",
        "y_pred_scaled = model.predict(X_test_scaled)\n",
        "y_pred_scaled[:5]"
      ],
      "metadata": {
        "id": "NVMapX2Hzl83",
        "colab": {
          "base_uri": "https://localhost:8080/"
        },
        "outputId": "b11e69f3-5eac-4ee2-b516-101b05b5ec09"
      },
      "execution_count": 16,
      "outputs": [
        {
          "output_type": "stream",
          "name": "stdout",
          "text": [
            "\u001b[1m5/5\u001b[0m \u001b[32m━━━━━━━━━━━━━━━━━━━━\u001b[0m\u001b[37m\u001b[0m \u001b[1m1s\u001b[0m 72ms/step\n"
          ]
        },
        {
          "output_type": "execute_result",
          "data": {
            "text/plain": [
              "array([[[0.49188846, 0.7930829 ],\n",
              "        [0.52261275, 0.90234524],\n",
              "        [0.46789122, 0.9276005 ],\n",
              "        [0.38431782, 0.9120745 ],\n",
              "        [0.39609057, 0.93375343]],\n",
              "\n",
              "       [[0.48082143, 0.71887255],\n",
              "        [0.5148188 , 0.90947574],\n",
              "        [0.430602  , 0.9222602 ],\n",
              "        [0.4244029 , 0.9394814 ],\n",
              "        [0.3348301 , 0.91248447]],\n",
              "\n",
              "       [[0.47044122, 0.75302666],\n",
              "        [0.47089618, 0.9126543 ],\n",
              "        [0.46580517, 0.95227575],\n",
              "        [0.35987037, 0.91903484],\n",
              "        [0.2793005 , 0.8662819 ]],\n",
              "\n",
              "       [[0.4355219 , 0.7402351 ],\n",
              "        [0.5126223 , 0.93634254],\n",
              "        [0.40467304, 0.92906123],\n",
              "        [0.30626732, 0.8716922 ],\n",
              "        [0.38013238, 0.90883315]],\n",
              "\n",
              "       [[0.49161035, 0.76376754],\n",
              "        [0.45632124, 0.90961677],\n",
              "        [0.3526637 , 0.87907714],\n",
              "        [0.40818954, 0.9130257 ],\n",
              "        [0.409015  , 0.95493007]]], dtype=float32)"
            ]
          },
          "metadata": {},
          "execution_count": 16
        }
      ]
    },
    {
      "cell_type": "code",
      "source": [
        "# แปลงค่ากลับเป็นสเกลเดิม\n",
        "y_pred = scaler_y.inverse_transform(y_pred_scaled.reshape(-1, y_pred_scaled.shape[-1])).reshape(y_pred_scaled.shape) #Nomalization ไม่ต้องแปลงกลับ .reshape(-1, y_train.shape[-1])).reshape(y_train.shape)\n",
        "y_test = scaler_y.inverse_transform(y_test_scaled.reshape(-1, y_test_scaled.shape[-1])).reshape(y_test_scaled.shape)\n",
        "y_pred[:5] ,y_test[:5]"
      ],
      "metadata": {
        "colab": {
          "base_uri": "https://localhost:8080/"
        },
        "id": "KikwLTGV-znu",
        "outputId": "e06e2afa-979b-4461-c307-372c1f7d1375"
      },
      "execution_count": 17,
      "outputs": [
        {
          "output_type": "execute_result",
          "data": {
            "text/plain": [
              "(array([[[49.76343 , 36.803726],\n",
              "         [50.21388 , 39.4016  ],\n",
              "         [49.411606, 40.00208 ],\n",
              "         [48.18634 , 39.632927],\n",
              "         [48.35894 , 40.148373]],\n",
              " \n",
              "        [[49.60118 , 35.039265],\n",
              "         [50.099613, 39.571136],\n",
              "         [48.86491 , 39.875107],\n",
              "         [48.774025, 40.284565],\n",
              "         [47.460804, 39.642673]],\n",
              " \n",
              "        [[49.448994, 35.85133 ],\n",
              "         [49.455666, 39.64671 ],\n",
              "         [49.381027, 40.588768],\n",
              "         [47.827915, 39.798416],\n",
              "         [46.646683, 38.54414 ]],\n",
              " \n",
              "        [[48.937042, 35.54719 ],\n",
              "         [50.06741 , 40.209934],\n",
              "         [48.484768, 40.03681 ],\n",
              "         [47.042046, 38.672775],\n",
              "         [48.124977, 39.55586 ]],\n",
              " \n",
              "        [[49.759357, 36.106712],\n",
              "         [49.24198 , 39.57449 ],\n",
              "         [47.72226 , 38.848366],\n",
              "         [48.53632 , 39.65554 ],\n",
              "         [48.548428, 40.65188 ]]], dtype=float32),\n",
              " array([[[49.48110559, 38.48356444],\n",
              "         [49.11407837, 39.74669395],\n",
              "         [48.25640186, 39.54992239],\n",
              "         [49.62255139, 39.96979992],\n",
              "         [47.68229854, 39.56706909]],\n",
              " \n",
              "        [[49.11407837, 39.74669395],\n",
              "         [48.25640186, 39.54992239],\n",
              "         [49.62255139, 39.96979992],\n",
              "         [47.68229854, 39.56706909],\n",
              "         [47.08817403, 38.1273839 ]],\n",
              " \n",
              "        [[48.25640186, 39.54992239],\n",
              "         [49.62255139, 39.96979992],\n",
              "         [47.68229854, 39.56706909],\n",
              "         [47.08817403, 38.1273839 ],\n",
              "         [50.02485911, 39.14005332]],\n",
              " \n",
              "        [[49.62255139, 39.96979992],\n",
              "         [47.68229854, 39.56706909],\n",
              "         [47.08817403, 38.1273839 ],\n",
              "         [50.02485911, 39.14005332],\n",
              "         [49.497721  , 40.7203068 ]],\n",
              " \n",
              "        [[47.68229854, 39.56706909],\n",
              "         [47.08817403, 38.1273839 ],\n",
              "         [50.02485911, 39.14005332],\n",
              "         [49.497721  , 40.7203068 ],\n",
              "         [47.77766368, 41.34470095]]]))"
            ]
          },
          "metadata": {},
          "execution_count": 17
        }
      ]
    }
  ]
}